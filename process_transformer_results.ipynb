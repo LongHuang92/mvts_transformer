{
 "cells": [
  {
   "cell_type": "code",
   "execution_count": 33,
   "id": "6ea842b5",
   "metadata": {},
   "outputs": [
    {
     "name": "stdout",
     "output_type": "stream",
     "text": [
      "['target_masks', 'targets', 'predictions', 'metrics', 'IDs']\n"
     ]
    }
   ],
   "source": [
    "import numpy as np\n",
    "filename = '/Volumes/Extreme_SSD/mvts_transformer/experiments/ten_tasks_contact_free/attack_at_beginning_and_halfway_hijacking/user1_legitimate/attack_at_beginning_and_halfway_hijacking_user1_fragment_length_100/test_results.npz'\n",
    "data = np.load(filename, allow_pickle=True)\n",
    "lst = data.files\n",
    "print(lst)"
   ]
  },
  {
   "cell_type": "code",
   "execution_count": 34,
   "id": "5d372dc1",
   "metadata": {},
   "outputs": [
    {
     "name": "stderr",
     "output_type": "stream",
     "text": [
      "/var/folders/rr/c6bzrfyd5tv0pt24ky9_l4d40000gn/T/ipykernel_71208/923225844.py:4: UserWarning: Implicit dimension choice for softmax has been deprecated. Change the call to include dim=X as an argument.\n",
      "  probs = torch.nn.functional.softmax(predictions)  # (total_samples, num_classes) est. prob. for each class and sample\n"
     ]
    }
   ],
   "source": [
    "import torch\n",
    "import numpy as np\n",
    "predictions = torch.from_numpy(np.concatenate(data['predictions'], axis=0))\n",
    "probs = torch.nn.functional.softmax(predictions)  # (total_samples, num_classes) est. prob. for each class and sample\n",
    "predictions = torch.argmax(probs, dim=1).cpu().numpy()  # (total_samples,) int class index for each sample\n",
    "probs = probs.cpu().numpy()"
   ]
  },
  {
   "cell_type": "code",
   "execution_count": 35,
   "id": "787a931b",
   "metadata": {},
   "outputs": [
    {
     "name": "stdout",
     "output_type": "stream",
     "text": [
      "[[0.9758278  0.02417226]\n",
      " [0.98996955 0.01003049]\n",
      " [0.9547918  0.04520818]\n",
      " ...\n",
      " [0.9242295  0.07577059]\n",
      " [0.9307782  0.06922178]\n",
      " [0.9405035  0.05949658]]\n"
     ]
    }
   ],
   "source": [
    "print(probs)"
   ]
  },
  {
   "cell_type": "code",
   "execution_count": 36,
   "id": "fd267b5a",
   "metadata": {},
   "outputs": [
    {
     "name": "stdout",
     "output_type": "stream",
     "text": [
      "[0 0 0 ... 0 0 0]\n"
     ]
    }
   ],
   "source": [
    "print(predictions)"
   ]
  },
  {
   "cell_type": "code",
   "execution_count": 37,
   "id": "c6365069",
   "metadata": {},
   "outputs": [
    {
     "name": "stdout",
     "output_type": "stream",
     "text": [
      "[[1]\n",
      " [1]\n",
      " [1]\n",
      " ...\n",
      " [0]\n",
      " [0]\n",
      " [0]]\n"
     ]
    }
   ],
   "source": [
    "targets = torch.from_numpy(np.concatenate(data['targets'], axis=0))\n",
    "targets = targets.cpu().numpy()\n",
    "print(targets)"
   ]
  },
  {
   "cell_type": "code",
   "execution_count": 38,
   "id": "29387f5a",
   "metadata": {},
   "outputs": [],
   "source": [
    "from scipy import io\n",
    "io.savemat('predictions.mat', {\"predictions\": predictions })\n",
    "io.savemat('targets.mat', {\"targets\": targets })"
   ]
  },
  {
   "cell_type": "code",
   "execution_count": null,
   "id": "794fddfa",
   "metadata": {},
   "outputs": [],
   "source": []
  }
 ],
 "metadata": {
  "kernelspec": {
   "display_name": "Python 3 (ipykernel)",
   "language": "python",
   "name": "python3"
  },
  "language_info": {
   "codemirror_mode": {
    "name": "ipython",
    "version": 3
   },
   "file_extension": ".py",
   "mimetype": "text/x-python",
   "name": "python",
   "nbconvert_exporter": "python",
   "pygments_lexer": "ipython3",
   "version": "3.10.9"
  }
 },
 "nbformat": 4,
 "nbformat_minor": 5
}
